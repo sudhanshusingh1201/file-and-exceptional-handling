{
 "cells": [
  {
   "cell_type": "markdown",
   "id": "9f657e83-cb38-4831-8f60-80e9845f96c9",
   "metadata": {},
   "source": [
    "# Files, exceptional handling, logging and memory management Questions\n",
    "\n",
    "\n"
   ]
  },
  {
   "cell_type": "markdown",
   "id": "004c9fc4-0ee8-4059-9f7c-d27703778934",
   "metadata": {},
   "source": [
    "# 1. What is the difference between interpreted and compiled languages?"
   ]
  },
  {
   "cell_type": "markdown",
   "id": "e797363e-dbd3-462b-9421-1e6a3afa4a5e",
   "metadata": {},
   "source": [
    "# Ans-\n",
    "The main difference between interpreted and compiled languages is how the code is converted into binary machine code (0s and 1s) that the computer can understand.\n",
    "* Interpreted Languages:-\n",
    " ~Code is executed line-by-line\n",
    " ~Slower, because it translates each line of code every time it's run\n",
    " ~Errors are detected during runtime\n",
    " ~More portable because the same code can run on different systems with the right interpreter\n",
    " ~Example-Python, JavaScript, Ruby, PHP\n",
    "* Compiled Languages:-\n",
    " ~Code is translated all at once into machine code by a compiler, creating an executable file (.exe, .out, etc.)\n",
    " ~Faster, because the code is already converted into machine code before execution\n",
    " ~Errors are detected during compilation\n",
    " ~Less portable because compiled code is platform-dependent unless recompiled\n",
    " ~Examples: C, C++, Rust, Go."
   ]
  },
  {
   "cell_type": "markdown",
   "id": "0d27b603-f5da-4eea-b0eb-cbf58c4830fc",
   "metadata": {},
   "source": [
    "# 2.  What is exception handling in Python?"
   ]
  },
  {
   "cell_type": "markdown",
   "id": "6b4cacff-5d59-4f73-b7ad-da4ae933a9b5",
   "metadata": {},
   "source": [
    "# Ans-\n",
    "Exception handling in Python is a way to handle errors or exceptions that occur during the execution of a program. Instead of letting the program crash, you can catch and handle the error gracefully."
   ]
  },
  {
   "cell_type": "markdown",
   "id": "68207c5d-71d8-41a1-88b9-1c5aa02ef6d7",
   "metadata": {},
   "source": [
    "# 3. What is the purpose of the finally block in exception handling?"
   ]
  },
  {
   "cell_type": "markdown",
   "id": "89ca5eb8-077f-4b65-969e-516c87a74b56",
   "metadata": {},
   "source": [
    "# Ans-\n",
    "The purpose of the finally block in exception handling is to ensure that certain code always runs, no matter what. Whether an exception is raised or not, the finally block will always be executed"
   ]
  },
  {
   "cell_type": "markdown",
   "id": "4f26f407-e7db-4698-8162-d84f9178973f",
   "metadata": {
    "jp-MarkdownHeadingCollapsed": true
   },
   "source": [
    "# 4.  What is logging in Python?"
   ]
  },
  {
   "cell_type": "markdown",
   "id": "dcf10569-985c-41e7-9d3b-ec1afff99055",
   "metadata": {},
   "source": [
    "# Ans- \n",
    "Logging in Python is a way to record or log important information about a program’s execution. Instead of just printing messages with print(), logging provides a more flexible and powerful way to track events, errors, warnings, and debug messages."
   ]
  },
  {
   "cell_type": "markdown",
   "id": "f249fa77-f680-4abb-adfe-f16d974f1f23",
   "metadata": {},
   "source": [
    "# 5. What is the significance of the __del__ method in Python?"
   ]
  },
  {
   "cell_type": "markdown",
   "id": "01087393-1c89-4ed8-93a9-7e85a9427387",
   "metadata": {},
   "source": [
    "# Ans-\n",
    "The __del__ method in Python is a special (magic) method also known as a destructor. It is called when an object is about to be destroyed, i.e., when its reference count reaches zero, and the memory occupied by the object is ready to be reclaimed by the garbage collector."
   ]
  },
  {
   "cell_type": "markdown",
   "id": "0b27a048-b816-4f2b-b91e-c598973d68ad",
   "metadata": {},
   "source": [
    "# 6. What is the difference between import and from ... import in Python?"
   ]
  },
  {
   "cell_type": "markdown",
   "id": "b35f8430-a0aa-48d6-83d8-ebb9a19d30f9",
   "metadata": {},
   "source": [
    "# Ans-\n",
    "The difference between import and from ... import in Python is in how modules or functions are imported and accessed in your code. Let’s break it down:\n",
    "* import Statement:\n",
    "    This imports the entire module. To access anything from the module, we need to use the module name as a prefix.\n",
    "* from ... import Statement:\n",
    "    This imports specific functions, classes, or variables from a module directly. we can use them without the module prefix."
   ]
  },
  {
   "cell_type": "markdown",
   "id": "2d182a74-11fb-44a5-95c2-d255867fade3",
   "metadata": {},
   "source": [
    "# 7.  How can you handle multiple exceptions in Python?"
   ]
  },
  {
   "cell_type": "markdown",
   "id": "87a5b21c-3e11-47b1-82ea-54db3dddf337",
   "metadata": {},
   "source": [
    "# Ans-\n",
    "In Python, we can handle multiple exceptions using:\n",
    "1. Multiple except Blocks (Preferred Method)\n",
    "You can have separate except blocks for different exceptions.\n",
    "2. Handling Multiple Exceptions in One Block (Using Tuple)\n",
    "You can catch multiple exceptions in a single block by putting them in a tuple.\n",
    "3. Using Exception for Catching All Errors (Not Recommended)\n",
    "Catching all exceptions using Exception can be useful in some cases but is generally not recommended because it can hide real issues.\n",
    "4. try-except-else-finally Combination (Handling Multiple Exceptions with Cleanup)\n",
    "You can also use else and finally along with multiple exceptions\n"
   ]
  },
  {
   "cell_type": "markdown",
   "id": "c021a16f-b2d4-419d-8101-8fa7b2c80e40",
   "metadata": {},
   "source": [
    "# 8.  What is the purpose of the with statement when handling files in Python."
   ]
  },
  {
   "cell_type": "markdown",
   "id": "f530d705-5afa-4032-a3cf-aa765fcddede",
   "metadata": {},
   "source": [
    "# Ans-\n",
    "The with statement in Python is used for handling files and other resources in a safe and efficient way. It ensures that resources are properly acquired and released when they are no longer needed"
   ]
  },
  {
   "cell_type": "markdown",
   "id": "22788475-aabc-4d1c-95a8-a741b9bc2424",
   "metadata": {},
   "source": [
    "# 9. What is the difference between multithreading and multiprocessing?"
   ]
  },
  {
   "cell_type": "markdown",
   "id": "7e12f9f3-e4bd-4940-9d30-376d44efc991",
   "metadata": {},
   "source": [
    "# Ans-\n",
    "The difference between multithreading and multiprocessing lies in how tasks are executed concurrently and how they utilize system resources (CPU cores). Let's break it down:\n",
    "*  Multithreading:\n",
    "Multithreading involves running multiple threads within a single process.\n",
    "Threads share the same memory space, making it lightweight but potentially dangerous due to conflicts.\n",
    "*  Multiprocessing:\n",
    "Multiprocessing involves running multiple processes, each with its own memory space.\n",
    "Each process runs on a separate CPU core, making it suitable for CPU-bound tasks.\n",
    "\n"
   ]
  },
  {
   "cell_type": "markdown",
   "id": "6756e89f-5b3b-4aca-9053-531666259268",
   "metadata": {},
   "source": [
    "# 10. What are the advantages of using logging in a program?"
   ]
  },
  {
   "cell_type": "markdown",
   "id": "247f2944-c7aa-4d65-ad1e-3dae727b82b4",
   "metadata": {},
   "source": [
    "# Ans-\n",
    "Logging in Python is a way to track events that happen when your code runs. It’s especially useful for debugging, monitoring, and troubleshooting. Here’s why logging is essential:\n",
    "* Easier Debugging and Error Tracking\n",
    "* Persistent Record of Events\n",
    "* Configurable and Flexible\n",
    "* Separation of Concerns\n",
    "* Multi-Level Logging\n",
    "* Performance Monitoring\n",
    "* Thread-Safe and Process-Safe\n",
    "* Helps in Auditing and Security\n"
   ]
  },
  {
   "cell_type": "markdown",
   "id": "578f55e6-cf08-41b2-b1c4-0fa3147b341f",
   "metadata": {},
   "source": [
    "# 11. What is memory management in Python?"
   ]
  },
  {
   "cell_type": "markdown",
   "id": "74fc240b-ddd3-47ca-8dfc-0c36936e9495",
   "metadata": {},
   "source": [
    "# Ans-\n",
    "Memory management in Python refers to how Python handles the allocation, deallocation, and recycling of memory during program execution. It ensures efficient use of memory by automatically handling memory-related tasks, so developers don’t have to worry about it manually."
   ]
  },
  {
   "cell_type": "markdown",
   "id": "375cc669-b0b3-436c-93d5-9f3192347307",
   "metadata": {},
   "source": [
    "# 12. What are the basic steps involved in exception handling in Python?"
   ]
  },
  {
   "cell_type": "markdown",
   "id": "bdf334be-6cc0-4d0c-877e-e50dabb96d23",
   "metadata": {},
   "source": [
    "# Ans-\n",
    "Exception handling in Python ensures that a program runs smoothly even when errors occur. It prevents the program from crashing and provides a way to gracefully handle errors\n",
    "   Steps for Exception Handling:\n",
    "* Identifying Code That May Raise Exceptions (Try Block)\n",
    "* Handling Exceptions (Except Block)\n",
    "* Executing Code After Handling (Finally Block)\n",
    "* Providing Alternative Code (Else Block)\n",
    "* Raising Exceptions Manually (Using raise)\n",
    "* Creating Custom Exceptions (Optional)"
   ]
  },
  {
   "cell_type": "markdown",
   "id": "bfd18401-21f3-4f03-b53c-28ca3edd5a4d",
   "metadata": {},
   "source": [
    "# 13. Why is memory management important in Python?\n"
   ]
  },
  {
   "cell_type": "markdown",
   "id": "019551d4-eee2-4aa3-90d6-0da93edd2eee",
   "metadata": {},
   "source": [
    "# Ans-\n",
    "Memory management is crucial because it ensures that a Python program uses memory efficiently, safely, and without leaks. Without proper memory management, your program can become slow, crash frequently, or even completely fail."
   ]
  },
  {
   "cell_type": "markdown",
   "id": "7c571dc8-432e-429f-9127-6eb64d809f25",
   "metadata": {},
   "source": [
    "# 14. What is the role of try and except in exception handling?"
   ]
  },
  {
   "cell_type": "markdown",
   "id": "00c93c5f-46a1-4794-9cd2-0e0336598bff",
   "metadata": {},
   "source": [
    "# Ans-\n",
    "Role of try and except in Exception Handling:\n",
    "The try and except blocks are core components of Python's exception handling mechanism. They allow you to catch and handle errors gracefully without crashing your program\n",
    "1. try Block:\n",
    "The try block contains code that may potentially cause an exception\n",
    "2. except Block:\n",
    "The except block is used to catch and handle exceptions that occur in the try block.\n",
    "3. Catching Multiple Exceptions:\n",
    "You can handle different exceptions separately by using multiple except blocks.\n",
    "4. Catching All Exceptions (Not Recommended):\n",
    "Using a bare except: will catch all exceptions, which is usually not a good practice because it hides errors you might want to fix.\n",
    " 5. Catching Multiple Exceptions in One Block:\n",
    "You can handle multiple exception types using a tuple.\n",
    "6. Using as Keyword (Exception Object):\n",
    "The as keyword allows you to store the exception object for further inspection or logging."
   ]
  },
  {
   "cell_type": "markdown",
   "id": "be310f5d-2cca-4b35-91c7-c1fd0f05a4cc",
   "metadata": {},
   "source": [
    "# 15.  How does Python's garbage collection system work?"
   ]
  },
  {
   "cell_type": "markdown",
   "id": "4013fc24-c2d5-499c-b9ca-f8ddc26eea92",
   "metadata": {},
   "source": [
    "# Ans-\n",
    "Python's garbage collection (GC) system automatically manages memory by deleting unused objects to free up memory space. It primarily uses Reference Counting and Generational Garbage Collection.\n",
    "* Reference Counting:\n",
    "The reference counting mechanism keeps track of how many references point to each object in memory.\n",
    "* Generational Garbage Collection (GC):\n",
    "Python uses a generational garbage collection system to clean up objects that are no longer referenced but still have a positive reference count (e.g., circular references)."
   ]
  },
  {
   "cell_type": "markdown",
   "id": "c13babae-9242-4434-971c-ee8318abc1f7",
   "metadata": {},
   "source": [
    "# 16. What is the purpose of the else block in exception handling?"
   ]
  },
  {
   "cell_type": "markdown",
   "id": "ca77328b-3ae0-4f53-bd91-8c9a37ebdbdb",
   "metadata": {},
   "source": [
    "# Ans-\n",
    "The else block in Python exception handling is used to execute code that should run only if the try block succeeds (i.e., no exception is raised)\n",
    "for example:- Separation of Logic,Better Readability,Performance Improvement,Intent Clarification.\n"
   ]
  },
  {
   "cell_type": "markdown",
   "id": "42a952b3-9de2-42d8-8f8c-8d1f19254fdb",
   "metadata": {},
   "source": [
    "# 17 . What are the common logging levels in Python?"
   ]
  },
  {
   "cell_type": "markdown",
   "id": "e908e1a7-ebe5-464f-b7f0-88d68968b035",
   "metadata": {},
   "source": [
    "# Ans-\n",
    "Python’s logging module provides a way to track events that happen during program execution. Logging levels help categorize logs by their severity or importance"
   ]
  },
  {
   "cell_type": "markdown",
   "id": "750cdbf1-4be5-4a40-b0d4-2cc05277f7e8",
   "metadata": {},
   "source": [
    "# 18.  What is the difference between os.fork() and multiprocessing in Python?"
   ]
  },
  {
   "cell_type": "markdown",
   "id": "d62a7061-6d8e-413e-9011-f7c8ae9f582d",
   "metadata": {},
   "source": [
    "# Ans-\n",
    "Both os.fork() and multiprocessing are used to create new processes in Python, but they have significant differences in how they work and their portability.\n",
    "* os.fork() (Unix/Linux Only):\n",
    "The os.fork() function creates a child process by duplicating the parent process.\n",
    "It is available only on Unix-based systems (Linux, macOS)\n",
    "* multiprocessing Module (Cross-Platform):\n",
    "The multiprocessing module provides a high-level interface for process creation.\n",
    "It works on all platforms, including Windows and Linux."
   ]
  },
  {
   "cell_type": "markdown",
   "id": "2b5da6c4-b750-44d8-aed3-369bb6da840f",
   "metadata": {},
   "source": [
    "# 19. What is the importance of closing a file in Python?"
   ]
  },
  {
   "cell_type": "markdown",
   "id": "a836f332-af44-4060-9977-1162e3a3dcf9",
   "metadata": {},
   "source": [
    "# Ans-\n",
    "Closing a file in Python using the .close() method or the with statement is crucial for proper resource management. It ensures that all operations performed on the file are saved and resources are freed up."
   ]
  },
  {
   "cell_type": "markdown",
   "id": "4d7c1ce5-f674-4a6e-a3a2-1e7bc3f53d69",
   "metadata": {},
   "source": [
    "# 20. What is the difference between file.read() and file.readline() in Python?"
   ]
  },
  {
   "cell_type": "markdown",
   "id": "ac112f73-b11e-49b5-8ff8-afd3787e5bee",
   "metadata": {},
   "source": [
    "# Ans-\n",
    "Both file.read() and file.readline() are used to read content from a file, but they work differently.\n",
    "* file.read() Method:\n",
    "Reads the entire file content or a specified number of characters at once.\n",
    "* file.readline() Method:\n",
    "Reads a single line from the file each time it is called."
   ]
  },
  {
   "cell_type": "markdown",
   "id": "409aeae8-61c4-4ad6-9f14-d05e3d15398d",
   "metadata": {},
   "source": [
    "# 21. What is the logging module in Python used for?"
   ]
  },
  {
   "cell_type": "markdown",
   "id": "3acf4af6-a51f-4a5e-84a5-898a5e89fa3b",
   "metadata": {},
   "source": [
    "# Ans-\n",
    "The logging module in Python is used for tracking events, errors, and information during program execution. It provides a flexible way to record messages to different outputs, such as console, files, or even remote servers."
   ]
  },
  {
   "cell_type": "markdown",
   "id": "bdd0a6fb-5645-4d9c-b1e0-484c33534579",
   "metadata": {},
   "source": [
    "# 22. What is the os module in Python used for in file handling?"
   ]
  },
  {
   "cell_type": "markdown",
   "id": "a9071224-f2f4-45d0-b67a-fc14cd28c813",
   "metadata": {},
   "source": [
    "# Ans-\n",
    "The os module in Python provides a way to interact with the operating system and perform file and directory-related operations. It allows you to create, delete, rename, and modify files & directories, as well as gather information about the file system."
   ]
  },
  {
   "cell_type": "markdown",
   "id": "0b9d8fad-aadd-4667-a0b0-7f10b210977c",
   "metadata": {},
   "source": [
    "# 23. What are the challenges associated with memory management in Python?"
   ]
  },
  {
   "cell_type": "markdown",
   "id": "fc30c909-8db4-4c2c-83ba-bbc46dba264f",
   "metadata": {},
   "source": [
    "# Ans-\n",
    "Python’s memory management system handles allocation, deallocation, and garbage collection automatically. But, there are several challenges associated with it:\n",
    "* Garbage Collection Overheads\n",
    "* Memory Leaks\n",
    "*  Fragmentation\n",
    "*  High Memory Usage (Memory Bloat)\n",
    "*  Inefficient Use of Objects\n",
    "*  Memory Management in Multithreading\n",
    "*  Lack of Control Over Memory Management\n",
    "*  Reference Cycles"
   ]
  },
  {
   "cell_type": "markdown",
   "id": "2ec2ee69-2275-4482-a732-af01a3447fac",
   "metadata": {},
   "source": [
    "# 24.  How do you raise an exception manually in Python?"
   ]
  },
  {
   "cell_type": "markdown",
   "id": "5d6cd667-6001-4b70-9a74-0e0387b0d9e1",
   "metadata": {},
   "source": [
    "# Ans-\n",
    "In Python, you can raise an exception manually using the raise keyword. This is useful when you want to trigger an error under specific conditions in your code."
   ]
  },
  {
   "cell_type": "markdown",
   "id": "ca4ca842-764c-4146-b823-2a70dbb1ccdc",
   "metadata": {},
   "source": [
    "# 25. Why is it important to use multithreading in certain applications?"
   ]
  },
  {
   "cell_type": "markdown",
   "id": "6d17866e-267c-498e-83fa-cb3d3683b796",
   "metadata": {},
   "source": [
    "# Ans-\n",
    "Multithreading is essential when you want to perform multiple tasks simultaneously within the same process. It is especially beneficial for I/O-bound operations where waiting for external resources (like files, databases, or network requests) can slow down the application."
   ]
  },
  {
   "cell_type": "markdown",
   "id": "52eacd0a-cd36-468b-b405-f1a002a9a2a9",
   "metadata": {},
   "source": [
    "# Practical Questions\n"
   ]
  },
  {
   "cell_type": "markdown",
   "id": "d3325424-9e86-4c95-8b9f-fe9b05a92e81",
   "metadata": {},
   "source": [
    "# 1. How can you open a file for writing in Python and write a string to it?"
   ]
  },
  {
   "cell_type": "markdown",
   "id": "9f673283-bbde-4196-aaf2-8fbdc67a903c",
   "metadata": {},
   "source": [
    "# Ans-\n",
    "To open a file for writing and write a string to it, you can use the open() function with the 'w' (write mode). If the file does not exist, it will be created. If it already exists, it will be overwritten."
   ]
  },
  {
   "cell_type": "markdown",
   "id": "8869cc05-296f-4856-b3d7-ed1b1400bf97",
   "metadata": {},
   "source": [
    "# 2. Write a Python program to read the contents of a file and print each line?"
   ]
  },
  {
   "cell_type": "code",
   "execution_count": 3,
   "id": "1b4166ac-061d-4e28-8202-1c1c936a9376",
   "metadata": {},
   "outputs": [
    {
     "name": "stdout",
     "output_type": "stream",
     "text": [
      "{\n",
      "\"cells\": [\n",
      "{\n",
      "\"cell_type\": \"markdown\",\n",
      "\"id\": \"6a2670ad-e5cd-4775-84d9-212a3e437b9d\",\n",
      "\"metadata\": {},\n",
      "\"source\": [\n",
      "\"                                                 # Experiment 3\\n\",\n",
      "\"\\n\",\n",
      "\"\\n\"\n",
      "]\n",
      "},\n",
      "{\n",
      "\"cell_type\": \"code\",\n",
      "\"execution_count\": 4,\n",
      "\"id\": \"843fb143-189b-4a73-b9f5-bf3515088562\",\n",
      "\"metadata\": {},\n",
      "\"outputs\": [\n",
      "{\n",
      "\"name\": \"stdin\",\n",
      "\"output_type\": \"stream\",\n",
      "\"text\": [\n",
      "\"Enter total number of leaf nodes:  10\\n\",\n",
      "\"Enter leaf value:  23\\n\",\n",
      "\"Enter leaf value:  45\\n\",\n",
      "\"Enter leaf value:  65\\n\",\n",
      "\"Enter leaf value:  78\\n\",\n",
      "\"Enter leaf value:  90\\n\",\n",
      "\"Enter leaf value:  21\\n\",\n",
      "\"Enter leaf value:  66\\n\",\n",
      "\"Enter leaf value:  70\\n\",\n",
      "\"Enter leaf value:  444\\n\",\n",
      "\"Enter leaf value:  233\\n\",\n",
      "\"Enter current depth value:  3\\n\",\n",
      "\"Enter node value:  4\\n\"\n",
      "]\n",
      "},\n",
      "{\n",
      "\"name\": \"stdout\",\n",
      "\"output_type\": \"stream\",\n",
      "\"text\": [\n",
      "\"The answer is: 78\\n\"\n",
      "]\n",
      "}\n",
      "],\n",
      "\"source\": [\n",
      "\"import math\\n\",\n",
      "\"\\n\",\n",
      "\"def fun_minimax(cd, node, maxt, scr, td):\\n\",\n",
      "\"    if cd == td:  \\n\",\n",
      "\"        return scr[node - 1]  \\n\",\n",
      "\"\\n\",\n",
      "\"    if maxt:  \\n\",\n",
      "\"        left_child = fun_minimax(cd + 1, node * 2, False, scr, td)\\n\",\n",
      "\"        right_child = fun_minimax(cd + 1, node * 2 + 1, False, scr, td)\\n\",\n",
      "\"        return max(left_child, right_child)\\n\",\n",
      "\"    else:  # Minimizing player's turn\\n\",\n",
      "\"        left_child = fun_minimax(cd + 1, node * 2, True, scr, td)\\n\",\n",
      "\"        right_child = fun_minimax(cd + 1, node * 2 + 1, True, scr, td)\\n\",\n",
      "\"        return min(left_child, right_child)\\n\",\n",
      "\"\\n\",\n",
      "\"if __name__ == \\\"__main__\\\":\\n\",\n",
      "\"    scr = []  \\n\",\n",
      "\"    x = int(input(\\\"Enter total number of leaf nodes: \\\"))\\n\",\n",
      "\"\\n\",\n",
      "\"    for i in range(x):\\n\",\n",
      "\"        y = int(input(\\\"Enter leaf value: \\\"))\\n\",\n",
      "\"        scr.append(y)\\n\",\n",
      "\"\\n\",\n",
      "\"    td = int(math.log2(len(scr)))  \\n\",\n",
      "\"    cd = int(input(\\\"Enter current depth value: \\\"))\\n\",\n",
      "\"    nodev = int(input(\\\"Enter node value: \\\"))\\n\",\n",
      "\"\\n\",\n",
      "\"    maxt = True  \\n\",\n",
      "\"\\n\",\n",
      "\"    print(\\\"The answer is:\\\", fun_minimax(cd, nodev, maxt, scr, td))\\n\"\n",
      "]\n",
      "},\n",
      "{\n",
      "\"cell_type\": \"code\",\n",
      "\"execution_count\": null,\n",
      "\"id\": \"c02acdeb-972b-41b9-a766-a2581dc4cb3b\",\n",
      "\"metadata\": {},\n",
      "\"outputs\": [],\n",
      "\"source\": []\n",
      "}\n",
      "],\n",
      "\"metadata\": {\n",
      "\"kernelspec\": {\n",
      "\"display_name\": \"Python 3 (ipykernel)\",\n",
      "\"language\": \"python\",\n",
      "\"name\": \"python3\"\n",
      "},\n",
      "\"language_info\": {\n",
      "\"codemirror_mode\": {\n",
      "\"name\": \"ipython\",\n",
      "\"version\": 3\n",
      "},\n",
      "\"file_extension\": \".py\",\n",
      "\"mimetype\": \"text/x-python\",\n",
      "\"name\": \"python\",\n",
      "\"nbconvert_exporter\": \"python\",\n",
      "\"pygments_lexer\": \"ipython3\",\n",
      "\"version\": \"3.11.7\"\n",
      "}\n",
      "},\n",
      "\"nbformat\": 4,\n",
      "\"nbformat_minor\": 5\n",
      "}\n"
     ]
    }
   ],
   "source": [
    "# Reading and printing each line from the file\n",
    "filename = 'AIexperiment3.ipynb'   \n",
    "\n",
    "try:\n",
    "    with open(filename, 'r') as file:\n",
    "        for line in file:\n",
    "            print(line.strip())  \n",
    "except FileNotFoundError:\n",
    "    print(f\"The file '{filename}' does not exist.\")\n"
   ]
  },
  {
   "cell_type": "markdown",
   "id": "50418300-ad84-48f7-97c7-cf2bacbb8187",
   "metadata": {},
   "source": [
    "# 3.  How would you handle a case where the file doesn't exist while trying to open it for reading?"
   ]
  },
  {
   "cell_type": "code",
   "execution_count": 5,
   "id": "e36fe997-1d09-431e-8f62-16839a9b5c1e",
   "metadata": {},
   "outputs": [
    {
     "name": "stdout",
     "output_type": "stream",
     "text": [
      "{\n",
      " \"cells\": [\n",
      "  {\n",
      "   \"cell_type\": \"markdown\",\n",
      "   \"id\": \"6a2670ad-e5cd-4775-84d9-212a3e437b9d\",\n",
      "   \"metadata\": {},\n",
      "   \"source\": [\n",
      "    \"                                                 # Experiment 3\\n\",\n",
      "    \"\\n\",\n",
      "    \"\\n\"\n",
      "   ]\n",
      "  },\n",
      "  {\n",
      "   \"cell_type\": \"code\",\n",
      "   \"execution_count\": 4,\n",
      "   \"id\": \"843fb143-189b-4a73-b9f5-bf3515088562\",\n",
      "   \"metadata\": {},\n",
      "   \"outputs\": [\n",
      "    {\n",
      "     \"name\": \"stdin\",\n",
      "     \"output_type\": \"stream\",\n",
      "     \"text\": [\n",
      "      \"Enter total number of leaf nodes:  10\\n\",\n",
      "      \"Enter leaf value:  23\\n\",\n",
      "      \"Enter leaf value:  45\\n\",\n",
      "      \"Enter leaf value:  65\\n\",\n",
      "      \"Enter leaf value:  78\\n\",\n",
      "      \"Enter leaf value:  90\\n\",\n",
      "      \"Enter leaf value:  21\\n\",\n",
      "      \"Enter leaf value:  66\\n\",\n",
      "      \"Enter leaf value:  70\\n\",\n",
      "      \"Enter leaf value:  444\\n\",\n",
      "      \"Enter leaf value:  233\\n\",\n",
      "      \"Enter current depth value:  3\\n\",\n",
      "      \"Enter node value:  4\\n\"\n",
      "     ]\n",
      "    },\n",
      "    {\n",
      "     \"name\": \"stdout\",\n",
      "     \"output_type\": \"stream\",\n",
      "     \"text\": [\n",
      "      \"The answer is: 78\\n\"\n",
      "     ]\n",
      "    }\n",
      "   ],\n",
      "   \"source\": [\n",
      "    \"import math\\n\",\n",
      "    \"\\n\",\n",
      "    \"def fun_minimax(cd, node, maxt, scr, td):\\n\",\n",
      "    \"    if cd == td:  \\n\",\n",
      "    \"        return scr[node - 1]  \\n\",\n",
      "    \"\\n\",\n",
      "    \"    if maxt:  \\n\",\n",
      "    \"        left_child = fun_minimax(cd + 1, node * 2, False, scr, td)\\n\",\n",
      "    \"        right_child = fun_minimax(cd + 1, node * 2 + 1, False, scr, td)\\n\",\n",
      "    \"        return max(left_child, right_child)\\n\",\n",
      "    \"    else:  # Minimizing player's turn\\n\",\n",
      "    \"        left_child = fun_minimax(cd + 1, node * 2, True, scr, td)\\n\",\n",
      "    \"        right_child = fun_minimax(cd + 1, node * 2 + 1, True, scr, td)\\n\",\n",
      "    \"        return min(left_child, right_child)\\n\",\n",
      "    \"\\n\",\n",
      "    \"if __name__ == \\\"__main__\\\":\\n\",\n",
      "    \"    scr = []  \\n\",\n",
      "    \"    x = int(input(\\\"Enter total number of leaf nodes: \\\"))\\n\",\n",
      "    \"\\n\",\n",
      "    \"    for i in range(x):\\n\",\n",
      "    \"        y = int(input(\\\"Enter leaf value: \\\"))\\n\",\n",
      "    \"        scr.append(y)\\n\",\n",
      "    \"\\n\",\n",
      "    \"    td = int(math.log2(len(scr)))  \\n\",\n",
      "    \"    cd = int(input(\\\"Enter current depth value: \\\"))\\n\",\n",
      "    \"    nodev = int(input(\\\"Enter node value: \\\"))\\n\",\n",
      "    \"\\n\",\n",
      "    \"    maxt = True  \\n\",\n",
      "    \"\\n\",\n",
      "    \"    print(\\\"The answer is:\\\", fun_minimax(cd, nodev, maxt, scr, td))\\n\"\n",
      "   ]\n",
      "  },\n",
      "  {\n",
      "   \"cell_type\": \"code\",\n",
      "   \"execution_count\": null,\n",
      "   \"id\": \"c02acdeb-972b-41b9-a766-a2581dc4cb3b\",\n",
      "   \"metadata\": {},\n",
      "   \"outputs\": [],\n",
      "   \"source\": []\n",
      "  }\n",
      " ],\n",
      " \"metadata\": {\n",
      "  \"kernelspec\": {\n",
      "   \"display_name\": \"Python 3 (ipykernel)\",\n",
      "   \"language\": \"python\",\n",
      "   \"name\": \"python3\"\n",
      "  },\n",
      "  \"language_info\": {\n",
      "   \"codemirror_mode\": {\n",
      "    \"name\": \"ipython\",\n",
      "    \"version\": 3\n",
      "   },\n",
      "   \"file_extension\": \".py\",\n",
      "   \"mimetype\": \"text/x-python\",\n",
      "   \"name\": \"python\",\n",
      "   \"nbconvert_exporter\": \"python\",\n",
      "   \"pygments_lexer\": \"ipython3\",\n",
      "   \"version\": \"3.11.7\"\n",
      "  }\n",
      " },\n",
      " \"nbformat\": 4,\n",
      " \"nbformat_minor\": 5\n",
      "}\n",
      "\n"
     ]
    }
   ],
   "source": [
    "# Ans-If you try to open a non-existent file in read mode ('r'), Python raises a FileNotFoundError. You can handle this error using a try-except block.\n",
    "filename = 'AIexperiment3.ipynb'\n",
    "\n",
    "try:\n",
    "    with open(filename, 'r') as file:\n",
    "        content = file.read()\n",
    "        print(content)\n",
    "except FileNotFoundError:\n",
    "    print(f\"Error: The file '{filename}' does not exist.\")\n"
   ]
  },
  {
   "cell_type": "markdown",
   "id": "0ce66241-cbc2-45d1-bd46-be0b80f8b03e",
   "metadata": {},
   "source": [
    "# 4. Write a Python script that reads from one file and writes its content to another file?"
   ]
  },
  {
   "cell_type": "code",
   "execution_count": 6,
   "id": "a50e8b35-b0d9-4149-b09f-6c43c1d08773",
   "metadata": {},
   "outputs": [
    {
     "name": "stdout",
     "output_type": "stream",
     "text": [
      "Content successfully copied from 'AIexperiment3.ipynb' to 'Data Toolkit.ipynb'.\n"
     ]
    }
   ],
   "source": [
    "# Filenames\n",
    "source_file = 'AIexperiment3.ipynb'\n",
    "destination_file = 'Data Toolkit.ipynb'\n",
    "\n",
    "try:\n",
    "    # Reading from the source file\n",
    "    with open(source_file, 'r') as src:\n",
    "        content = src.read()  # Read entire content of the source file\n",
    "    \n",
    "    # Writing to the destination file\n",
    "    with open(destination_file, 'w') as dest:\n",
    "        dest.write(content)\n",
    "    \n",
    "    print(f\"Content successfully copied from '{source_file}' to '{destination_file}'.\")\n",
    "\n",
    "except FileNotFoundError:\n",
    "    print(f\"Error: The file '{source_file}' does not exist.\")\n",
    "except PermissionError:\n",
    "    print(f\"Error: You don't have permission to read or write files.\")\n",
    "except Exception as e:\n",
    "    print(f\"An unexpected error occurred: {e}\")\n"
   ]
  },
  {
   "cell_type": "markdown",
   "id": "f15e0a9b-1ded-4f81-9c79-b316565dd02c",
   "metadata": {},
   "source": [
    "# 5.How would you catch and handle division by zero error in Python?"
   ]
  },
  {
   "cell_type": "code",
   "execution_count": 7,
   "id": "7e3e5072-7f4e-4b87-8462-79dfd0cfaf51",
   "metadata": {},
   "outputs": [
    {
     "name": "stdout",
     "output_type": "stream",
     "text": [
      "Error: Cannot divide a number by zero.\n"
     ]
    }
   ],
   "source": [
    "# Ans-In Python, dividing a number by zero causes a ZeroDivisionError. You can catch and handle this error using a try-except block.\n",
    "try:\n",
    "    numerator = 10\n",
    "    denominator = 0  # This will cause an error\n",
    "\n",
    "    result = numerator / denominator\n",
    "    print(f\"Result: {result}\")\n",
    "\n",
    "except ZeroDivisionError:\n",
    "    print(\"Error: Cannot divide a number by zero.\")\n"
   ]
  },
  {
   "cell_type": "markdown",
   "id": "09a50949-8757-4712-a68b-25c0540e6130",
   "metadata": {},
   "source": [
    "# 6. Write a Python program that logs an error message to a log file when a division by zero exception occurs?"
   ]
  },
  {
   "cell_type": "code",
   "execution_count": 8,
   "id": "4f0c832a-18af-4ea4-ac9a-10a49b61e503",
   "metadata": {},
   "outputs": [
    {
     "name": "stdout",
     "output_type": "stream",
     "text": [
      "Attempted to divide by zero.\n"
     ]
    }
   ],
   "source": [
    "import logging\n",
    "\n",
    "# Configure logging\n",
    "logging.basicConfig(\n",
    "    filename='error_log.txt',\n",
    "    level=logging.ERROR,\n",
    "    format='%(asctime)s - %(levelname)s - %(message)s'\n",
    ")\n",
    "\n",
    "def divide_numbers(numerator, denominator):\n",
    "    try:\n",
    "        result = numerator / denominator\n",
    "        print(f\"Result: {result}\")\n",
    "    except ZeroDivisionError:\n",
    "        error_message = \"Attempted to divide by zero.\"\n",
    "        print(error_message)\n",
    "        logging.error(error_message)\n",
    "\n",
    "# Example usage\n",
    "divide_numbers(10, 0)\n"
   ]
  },
  {
   "cell_type": "markdown",
   "id": "88191c82-c7ea-46af-b9e6-66398c28de9d",
   "metadata": {},
   "source": [
    "# 7.How do you log information at different levels (INFO, ERROR, WARNING) in Python using the logging module?"
   ]
  },
  {
   "cell_type": "markdown",
   "id": "cbea8e14-7fb6-4560-95e3-60d8789812e2",
   "metadata": {},
   "source": [
    "# Ans-\n",
    "The logging module allows you to log messages at various severity levels like DEBUG, INFO, WARNING, ERROR, and CRITICAL.\n",
    "* Level\t\n",
    "   DEBUG,INFO,WARNING,ERROR,CRITICAL\t"
   ]
  },
  {
   "cell_type": "markdown",
   "id": "a35600e6-039a-4268-8eee-6dcbd4346663",
   "metadata": {},
   "source": [
    "# 8. Write a program to handle a file opening error using exception handling?"
   ]
  },
  {
   "cell_type": "code",
   "execution_count": 14,
   "id": "0204c307-bfde-4e54-9e28-6ee343a31c97",
   "metadata": {},
   "outputs": [
    {
     "name": "stdout",
     "output_type": "stream",
     "text": [
      "File Content:\n",
      " {\n",
      " \"cells\": [\n",
      "  {\n",
      "   \"cell_type\": \"code\",\n",
      "   \"execution_count\": null,\n",
      "   \"id\": \"ae4b94c6-6bdd-458b-9422-9b3a365dcf18\",\n",
      "   \"metadata\": {},\n",
      "   \"outputs\": [],\n",
      "   \"source\": [\n",
      "    \"for assignment purpuse\"\n",
      "   ]\n",
      "  }\n",
      " ],\n",
      " \"metadata\": {\n",
      "  \"kernelspec\": {\n",
      "   \"display_name\": \"Python 3 (ipykernel)\",\n",
      "   \"language\": \"python\",\n",
      "   \"name\": \"python3\"\n",
      "  },\n",
      "  \"language_info\": {\n",
      "   \"codemirror_mode\": {\n",
      "    \"name\": \"ipython\",\n",
      "    \"version\": 3\n",
      "   },\n",
      "   \"file_extension\": \".py\",\n",
      "   \"mimetype\": \"text/x-python\",\n",
      "   \"name\": \"python\",\n",
      "   \"nbconvert_exporter\": \"python\",\n",
      "   \"pygments_lexer\": \"ipython3\",\n",
      "   \"version\": \"3.11.7\"\n",
      "  }\n",
      " },\n",
      " \"nbformat\": 4,\n",
      " \"nbformat_minor\": 5\n",
      "}\n",
      "\n"
     ]
    }
   ],
   "source": [
    "def read_file(filename):\n",
    "    try:\n",
    "        with open(filename, 'r') as file:\n",
    "            content = file.read()\n",
    "            print(\"File Content:\\n\", content)\n",
    "    except FileNotFoundError:\n",
    "        print(f\"Error: The file '{filename}' does not exist.\")\n",
    "    except PermissionError:\n",
    "        print(f\"Error: Permission denied to read the file '{filename}'.\")\n",
    "    except Exception as e:\n",
    "        print(f\"An unexpected error occurred: {e}\")\n",
    "\n",
    "# Example usage\n",
    "filename = 'Untitled1.ipynb'\n",
    "read_file(filename)\n"
   ]
  },
  {
   "cell_type": "markdown",
   "id": "76a64a3a-7047-4402-a6e9-be4e50d75cc8",
   "metadata": {},
   "source": [
    "# 9.How can you read a file line by line and store its content in a list in Python?"
   ]
  },
  {
   "cell_type": "code",
   "execution_count": 18,
   "id": "f9f26462-a678-491b-8b28-df0b958e1ed0",
   "metadata": {},
   "outputs": [
    {
     "name": "stdout",
     "output_type": "stream",
     "text": [
      "Error: The file 'example.txt' does not exist.\n",
      "None\n"
     ]
    }
   ],
   "source": [
    "#Ans- You can read a file line by line using a simple for loop or the .readlines() method.\n",
    "def read_file_as_list(filename):\n",
    "    lines = []\n",
    "    try:\n",
    "        with open(filename, 'r') as file:\n",
    "            for line in file:\n",
    "                lines.append(line.strip())  # Remove newline characters\n",
    "        return lines\n",
    "    except FileNotFoundError:\n",
    "        print(f\"Error: The file '{filename}' does not exist.\")\n",
    "    except Exception as e:\n",
    "        print(f\"An unexpected error occurred: {e}\")\n",
    "\n",
    "# Example usage\n",
    "filename = 'example.txt'\n",
    "file_content = read_file_as_list(filename)\n",
    "print(file_content)\n",
    "(file_content)\r\n"
   ]
  },
  {
   "cell_type": "markdown",
   "id": "f1e4cfb7-2d03-4b10-bf7f-0bc4626726ae",
   "metadata": {},
   "source": [
    "# 10.  How can you append data to an existing file in Python"
   ]
  },
  {
   "cell_type": "code",
   "execution_count": 19,
   "id": "a7b8fd44-b18a-4e62-b3a8-955fab23d60c",
   "metadata": {},
   "outputs": [
    {
     "name": "stdout",
     "output_type": "stream",
     "text": [
      "Data successfully appended to example.txt.\n"
     ]
    }
   ],
   "source": [
    "#Ans-To append data to an existing file, you can use the file mode 'a' (append mode) or 'a+' (append & read mode).\n",
    "def append_to_file(filename, data):\n",
    "    try:\n",
    "        with open(filename, 'a') as file:\n",
    "            file.write(data + '\\n')  # Adds a newline after the data\n",
    "        print(f\"Data successfully appended to {filename}.\")\n",
    "    except Exception as e:\n",
    "        print(f\"An error occurred: {e}\")\n",
    "\n",
    "# Example usage\n",
    "filename = 'example.txt'\n",
    "data = \"This is a new line of text.\"\n",
    "append_to_file(filename, data)\n"
   ]
  },
  {
   "cell_type": "markdown",
   "id": "6d7222c4-e74a-4c27-b019-8df5cd3996bf",
   "metadata": {},
   "source": [
    "# 11. Write a Python program that uses a try-except block to handle an error when attempting to access a dictionary key that doesn't exist\r",
    "t"
   ]
  },
  {
   "cell_type": "code",
   "execution_count": 20,
   "id": "8adfb07a-b22a-45ef-8850-9b0182fa5a59",
   "metadata": {},
   "outputs": [
    {
     "name": "stdout",
     "output_type": "stream",
     "text": [
      "The value for 'name' is: Alice\n",
      "Error: The key 'address' does not exist in the dictionary.\n"
     ]
    }
   ],
   "source": [
    "def access_dictionary_key(my_dict, key):\n",
    "    try:\n",
    "        value = my_dict[key]\n",
    "        print(f\"The value for '{key}' is: {value}\")\n",
    "    except KeyError:\n",
    "        print(f\"Error: The key '{key}' does not exist in the dictionary.\")\n",
    "\n",
    "# Example usage\n",
    "my_dict = {\n",
    "    'name': 'Alice',\n",
    "    'age': 30,\n",
    "    'city': 'New York'\n",
    "}\n",
    "\n",
    "# Attempting to access existing and non-existing keys\n",
    "access_dictionary_key(my_dict, 'name')  \n",
    "access_dictionary_key(my_dict, 'address')  \n"
   ]
  },
  {
   "cell_type": "markdown",
   "id": "6a510e62-1c6f-43be-841d-8bc3a92e6a9d",
   "metadata": {},
   "source": [
    "# 12.  Write a program that demonstrates using multiple except blocks to handle different types of exceptions"
   ]
  },
  {
   "cell_type": "code",
   "execution_count": 21,
   "id": "9a005dd1-972e-4a48-b87b-35f286559eb6",
   "metadata": {},
   "outputs": [
    {
     "name": "stdout",
     "output_type": "stream",
     "text": [
      "Error: Division by zero is not allowed.\n",
      "Division Result: 5.0\n",
      "Error: The key 'address' does not exist in the dictionary.\n",
      "Error: Invalid data type encountered.\n",
      "Division Result: 5.0\n",
      "Value for key 'name': Alice\n"
     ]
    }
   ],
   "source": [
    "def multiple_exceptions_demo(num1, num2, key, my_dict):\n",
    "    try:\n",
    "        # Division operation\n",
    "        result = num1 / num2\n",
    "        print(f\"Division Result: {result}\")\n",
    "        \n",
    "        # Accessing dictionary key\n",
    "        value = my_dict[key]\n",
    "        print(f\"Value for key '{key}': {value}\")\n",
    "        \n",
    "    except ZeroDivisionError:\n",
    "        print(\"Error: Division by zero is not allowed.\")\n",
    "        \n",
    "    except KeyError:\n",
    "        print(f\"Error: The key '{key}' does not exist in the dictionary.\")\n",
    "        \n",
    "    except TypeError:\n",
    "        print(\"Error: Invalid data type encountered.\")\n",
    "        \n",
    "    except Exception as e:\n",
    "        print(f\"An unexpected error occurred: {e}\")\n",
    "\n",
    "# Example dictionary\n",
    "my_dict = {'name': 'Alice', 'age': 30}\n",
    "\n",
    "# Test cases\n",
    "multiple_exceptions_demo(10, 0, 'name', my_dict)  \n",
    "multiple_exceptions_demo(10, 2, 'address', my_dict) \n",
    "multiple_exceptions_demo('ten', 2, 'name', my_dict) \n",
    "multiple_exceptions_demo(10, 2, 'name', my_dict)  \n"
   ]
  },
  {
   "cell_type": "markdown",
   "id": "7a60df4c-c76b-4551-9155-357d3982fa47",
   "metadata": {},
   "source": [
    "# 13. How would you check if a file exists before attempting to read it in Python?\r"
   ]
  },
  {
   "cell_type": "code",
   "execution_count": 22,
   "id": "72187fe2-ff45-48b0-9b09-c7415f18f963",
   "metadata": {},
   "outputs": [
    {
     "name": "stdout",
     "output_type": "stream",
     "text": [
      "File Content:\n",
      " This is a new line of text.\n",
      "\n"
     ]
    }
   ],
   "source": [
    "#ans-You can check if a file exists using the os.path.exists() function or the pathlib module.\n",
    "import os\n",
    "\n",
    "def check_file_exists(filename):\n",
    "    if os.path.exists(filename):\n",
    "        with open(filename, 'r') as file:\n",
    "            content = file.read()\n",
    "            print(\"File Content:\\n\", content)\n",
    "    else:\n",
    "        print(f\"Error: The file '{filename}' does not exist.\")\n",
    "\n",
    "# Example usage\n",
    "check_file_exists('example.txt')\n"
   ]
  },
  {
   "cell_type": "markdown",
   "id": "4f0b2cc7-3ac0-441c-98ae-f83c1ab78011",
   "metadata": {},
   "source": [
    "# 14. Write a program that uses the logging module to log both informational and error messages"
   ]
  },
  {
   "cell_type": "code",
   "execution_count": 27,
   "id": "4b344842-ea40-4355-bb39-604c5b6851dd",
   "metadata": {},
   "outputs": [],
   "source": [
    "import logging\n",
    "\n",
    "# Configure the logging module\n",
    "logging.basicConfig(\n",
    "    filename='app.log',  \n",
    "    level=logging.DEBUG,  \n",
    "    format='%(asctime)s - %(levelname)s - %(message)s'  \n",
    ")\n",
    "\n",
    "def divide_numbers(num1, num2):\n",
    "    try:\n",
    "        result = num1 / num2\n",
    "        logging.info(f\"Division successful: {num1} / {num2} = {result}\")\n",
    "        return result\n",
    "    except ZeroDivisionError:\n",
    "        logging.error(\"Error: Division by zero attempted.\")\n",
    "    except Exception as e:\n",
    "        logging.error(f\"An unexpected error occurred: {e}\")\n",
    "\n",
    "# Example usage\n",
    "divide_numbers(10, 2)  \n",
    "divide_numbers(10, 0)  \n",
    "divide_numbers('10', 2)  \n",
    "\n"
   ]
  },
  {
   "cell_type": "markdown",
   "id": "6b9ff985-6985-4a40-8d85-1af04274ddde",
   "metadata": {},
   "source": [
    "# 15.  Write a Python program that prints the content of a file and handles the case when the file is empty"
   ]
  },
  {
   "cell_type": "code",
   "execution_count": 28,
   "id": "621f72ff-3dc9-4270-a859-76f112823bfc",
   "metadata": {},
   "outputs": [
    {
     "name": "stdout",
     "output_type": "stream",
     "text": [
      "File Content:\n",
      "\n",
      "This is a new line of text.\n",
      "\n"
     ]
    }
   ],
   "source": [
    "import os\n",
    "\n",
    "def read_file(filename):\n",
    "    try:\n",
    "        if os.path.exists(filename):  # Check if file exists\n",
    "            with open(filename, 'r') as file:\n",
    "                content = file.read()\n",
    "                \n",
    "                if content:  # Check if file is not empty\n",
    "                    print(\"File Content:\\n\")\n",
    "                    print(content)\n",
    "                else:\n",
    "                    print(f\"Note: The file '{filename}' is empty.\")\n",
    "        else:\n",
    "            print(f\"Error: The file '{filename}' does not exist.\")\n",
    "    \n",
    "    except Exception as e:\n",
    "        print(f\"An error occurred: {e}\")\n",
    "\n",
    "# Example usage\n",
    "read_file('example.txt')\n"
   ]
  },
  {
   "cell_type": "markdown",
   "id": "c0127d02-eafe-47fc-8002-7600459265d7",
   "metadata": {},
   "source": [
    "# 16. Demonstrate how to use memory profiling to check the memory usage of a small program"
   ]
  },
  {
   "cell_type": "code",
   "execution_count": null,
   "id": "92e03cd7-e17d-476f-a11b-52a8832046d8",
   "metadata": {},
   "outputs": [],
   "source": [
    "from memory_profiler import profile\n",
    "\n",
    "@profile\n",
    "def process_numbers():\n",
    "    numbers = list(range(1, 100000))  \n",
    "    squares = [x * x for x in numbers] \n",
    "    del numbers  \n",
    "    return squares\n",
    "\n",
    "process_numbers()  \n"
   ]
  },
  {
   "cell_type": "markdown",
   "id": "8131812a-a17c-410c-8f1e-f0cdf3bc8375",
   "metadata": {},
   "source": [
    "# 17. Write a Python program to create and write a list of numbers to a file, one number per line"
   ]
  },
  {
   "cell_type": "code",
   "execution_count": 34,
   "id": "9a93ede6-8f34-4bbc-9a5c-e32d5ff41ea4",
   "metadata": {},
   "outputs": [
    {
     "name": "stdout",
     "output_type": "stream",
     "text": [
      "Numbers have been successfully written to 'numbers.txt'.\n"
     ]
    }
   ],
   "source": [
    "def write_numbers_to_file(filename, numbers):\n",
    "    try:\n",
    "        with open(filename, 'w') as file:\n",
    "            for number in numbers:\n",
    "                file.write(f\"{number}\\n\")\n",
    "        print(f\"Numbers have been successfully written to '{filename}'.\")\n",
    "    except Exception as e:\n",
    "        print(f\"An error occurred: {e}\")\n",
    "\n",
    "# Example usage\n",
    "numbers_list = [1, 2, 3, 4, 5, 6, 7, 8, 9, 10]\n",
    "write_numbers_to_file('numbers.txt', numbers_list)\n"
   ]
  },
  {
   "cell_type": "markdown",
   "id": "761da783-3186-4dc7-a21f-d44a660897a2",
   "metadata": {},
   "source": [
    "# 18. F How would you implement a basic logging setup that logs to a file with rotation after 1MB"
   ]
  },
  {
   "cell_type": "code",
   "execution_count": 35,
   "id": "b80b68b2-ecd3-4057-bd62-3b6f2a006629",
   "metadata": {},
   "outputs": [],
   "source": [
    "import logging\n",
    "from logging.handlers import RotatingFileHandler\n",
    "\n",
    "# Set up logger\n",
    "logger = logging.getLogger(\"MyLogger\")\n",
    "logger.setLevel(logging.DEBUG)\n",
    "\n",
    "# Create a rotating file handler (rotate after 1MB)\n",
    "handler = RotatingFileHandler(\n",
    "    \"rotating_log.log\",  \n",
    "    \n",
    "    maxBytes=1 * 1024 * 1024,  \n",
    "    \n",
    "    backupCount=3  \n",
    "    \n",
    "    \n",
    ")\n",
    "\n",
    "# Set logging format\n",
    "formatter = logging.Formatter('%(asctime)s - %(levelname)s - %(message)s')\n",
    "handler.setFormatter(formatter)\n",
    "\n",
    "# Add handler to the logger\n",
    "logger.addHandler(handler)\n",
    "\n",
    "# Example logging messages\n",
    "for i in range(10000):  \n",
    "    logger.debug(f\"Debug message {i}\")\n",
    "    logger.info(f\"Info message {i}\")\n",
    "    logger.warning(f\"Warning message {i}\")\n"
   ]
  },
  {
   "cell_type": "markdown",
   "id": "b7efdc1d-7cb2-4c6f-a24c-9aabfa3ddd50",
   "metadata": {},
   "source": [
    "# 19.Write a program that handles both IndexError and KeyError using a try-except block?"
   ]
  },
  {
   "cell_type": "code",
   "execution_count": 36,
   "id": "43bd6750-d52b-46d8-9e37-f0f77a9222c3",
   "metadata": {},
   "outputs": [
    {
     "name": "stdout",
     "output_type": "stream",
     "text": [
      "IndexError: The list index you are trying to access does not exist.\n"
     ]
    }
   ],
   "source": [
    "def handle_errors():\n",
    "    my_list = [10, 20, 30]\n",
    "    my_dict = {\"a\": 1, \"b\": 2}\n",
    "\n",
    "    try:\n",
    "        # Attempt to access an index that doesn't exist (IndexError)\n",
    "        print(my_list[5])\n",
    "        \n",
    "        # Attempt to access a dictionary key that doesn't exist (KeyError)\n",
    "        print(my_dict[\"c\"])\n",
    "        \n",
    "    except IndexError:\n",
    "        print(\"IndexError: The list index you are trying to access does not exist.\")\n",
    "        \n",
    "    except KeyError:\n",
    "        print(\"KeyError: The key you are trying to access does not exist in the dictionary.\")\n",
    "\n",
    "# Example usage\n",
    "handle_errors()\n"
   ]
  },
  {
   "cell_type": "markdown",
   "id": "9c081e5f-f908-47c2-bd54-85abf1751e0f",
   "metadata": {},
   "source": [
    "# 20.ow would you open a file and read its contents using a context manager in Python?\r"
   ]
  },
  {
   "cell_type": "code",
   "execution_count": 37,
   "id": "acf8056a-c63a-4da2-a3f6-e532db136d47",
   "metadata": {},
   "outputs": [
    {
     "name": "stdout",
     "output_type": "stream",
     "text": [
      "This is a new line of text.\n",
      "\n"
     ]
    }
   ],
   "source": [
    "def read_file(filename):\n",
    "    try:\n",
    "        with open(filename, 'r') as file:  # Opens file for reading\n",
    "            content = file.read()  # Reads the entire content of the file\n",
    "            return content\n",
    "    except FileNotFoundError:\n",
    "        return f\"Error: The file '{filename}' does not exist.\"\n",
    "    except Exception as e:\n",
    "        return f\"An unexpected error occurred: {e}\"\n",
    "\n",
    "# Example usage\n",
    "file_content = read_file('example.txt')\n",
    "print(file_content)\n"
   ]
  },
  {
   "cell_type": "markdown",
   "id": "07d189b8-ff95-4108-95b7-b1618ee0ad5e",
   "metadata": {},
   "source": [
    "# 21.Write a Python program that reads a file and prints the number of occurrences of a specific word"
   ]
  },
  {
   "cell_type": "code",
   "execution_count": null,
   "id": "7ccf0668-19ea-4fb2-9485-5c9c36333770",
   "metadata": {},
   "outputs": [],
   "source": [
    "def count_word_occurrences(filename, word):\n",
    "    try:\n",
    "        with open(filename, 'r') as file:\n",
    "            content = file.read().lower()  # Read entire file and convert to lowercase\n",
    "            words = content.split()  # Split content into words\n",
    "            return words.count(word.lower())  # Count occurrences of the word\n",
    "    except FileNotFoundError:\n",
    "        return f\"Error: The file '{filename}' does not exist.\"\n",
    "    except Exception as e:\n",
    "        return f\"An unexpected error occurred: {e}\"\n",
    "\n",
    "# Example usage\n",
    "filename = 'example.txt'\n",
    "search_word = 'Python'\n",
    "occurrences = count_word_occurrences(filename, search_word)\n",
    "print(f\"The word '{search_word}' occurred {occurrences} time(s) in the file.\")\n"
   ]
  },
  {
   "cell_type": "markdown",
   "id": "5f17f92b-ffa5-405a-b652-5e20ee684f41",
   "metadata": {},
   "source": [
    "# 22. How can you check if a file is empty before attempting to read its contents"
   ]
  },
  {
   "cell_type": "code",
   "execution_count": 40,
   "id": "16a552e0-b6d4-4cac-ba72-2006430a14a3",
   "metadata": {},
   "outputs": [
    {
     "name": "stdout",
     "output_type": "stream",
     "text": [
      "The file 'example.txt' is not empty.\n"
     ]
    }
   ],
   "source": [
    "import os\n",
    "\n",
    "def is_file_empty(filepath):\n",
    "    return os.path.getsize(filepath) == 0  # Returns True if file is empty, False otherwise\n",
    "\n",
    "# Example usage\n",
    "filename = 'example.txt'\n",
    "if is_file_empty(filename):\n",
    "    print(f\"The file '{filename}' is empty.\")\n",
    "else:\n",
    "    print(f\"The file '{filename}' is not empty.\")\n"
   ]
  },
  {
   "cell_type": "markdown",
   "id": "b358b5d8-a944-4d49-b3e2-9a6dc696d10f",
   "metadata": {},
   "source": [
    "# 23.Write a Python program that writes to a log file when an error occurs during file handling"
   ]
  },
  {
   "cell_type": "code",
   "execution_count": 41,
   "id": "050bbe7f-f6b6-409e-bd27-049de65769c8",
   "metadata": {},
   "outputs": [
    {
     "name": "stdout",
     "output_type": "stream",
     "text": [
      "Error: The file 'nonexistent_file.txt' does not exist.\n"
     ]
    }
   ],
   "source": [
    "import logging\n",
    "\n",
    "# Configure logging\n",
    "logging.basicConfig(\n",
    "    filename='file_handling_errors.log',\n",
    "    level=logging.ERROR,\n",
    "    format='%(asctime)s - %(levelname)s - %(message)s'\n",
    ")\n",
    "\n",
    "def read_file(filename):\n",
    "    try:\n",
    "        with open(filename, 'r') as file:\n",
    "            content = file.read()\n",
    "            print(content)  # Displaying the file content\n",
    "    except FileNotFoundError:\n",
    "        logging.error(f\"File '{filename}' not found.\")\n",
    "        print(f\"Error: The file '{filename}' does not exist.\")\n",
    "    except PermissionError:\n",
    "        logging.error(f\"Permission denied for file '{filename}'.\")\n",
    "        print(f\"Error: Permission denied for file '{filename}'.\")\n",
    "    except Exception as e:\n",
    "        logging.error(f\"An unexpected error occurred: {e}\")\n",
    "        print(f\"An unexpected error occurred: {e}\")\n",
    "\n",
    "# Example usage\n",
    "read_file('nonexistent_file.txt') \n"
   ]
  },
  {
   "cell_type": "code",
   "execution_count": null,
   "id": "25a53d16-4d58-4650-b0db-d22cf0fadb84",
   "metadata": {},
   "outputs": [],
   "source": []
  }
 ],
 "metadata": {
  "kernelspec": {
   "display_name": "Python 3 (ipykernel)",
   "language": "python",
   "name": "python3"
  },
  "language_info": {
   "codemirror_mode": {
    "name": "ipython",
    "version": 3
   },
   "file_extension": ".py",
   "mimetype": "text/x-python",
   "name": "python",
   "nbconvert_exporter": "python",
   "pygments_lexer": "ipython3",
   "version": "3.11.7"
  }
 },
 "nbformat": 4,
 "nbformat_minor": 5
}
